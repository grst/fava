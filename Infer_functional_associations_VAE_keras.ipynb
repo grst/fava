{
 "cells": [
  {
   "cell_type": "code",
   "execution_count": 1,
   "id": "16668b33",
   "metadata": {},
   "outputs": [],
   "source": [
    "import os\n",
    "import sys\n",
    "import keras\n",
    "import numpy as np\n",
    "import pandas as pd\n",
    "from keras.layers import Dense\n",
    "import matplotlib.pyplot as plt\n",
    "from sklearn.manifold import TSNE\n",
    "from sklearn.decomposition import PCA\n",
    "from keras.models import Sequential, Model\n",
    "from sklearn.preprocessing import MinMaxScaler\n",
    "import tensorflow as tf\n",
    "from tensorflow.keras.optimizers import Adam\n",
    "import matplotlib.pyplot as plt\n",
    "import warnings\n",
    "warnings.filterwarnings(\"ignore\")\n",
    "\n",
    "import keras\n",
    "from keras import layers\n",
    "from keras import backend as K\n",
    "from sklearn.model_selection import train_test_split\n"
   ]
  },
  {
   "cell_type": "code",
   "execution_count": null,
   "id": "8a10d738",
   "metadata": {},
   "outputs": [],
   "source": [
    "args = parser.parse_args()\n",
    "DATA_PATH = args.DATA_PATH\n",
    "intermediate_dim = args.intermediate\n",
    "latent_dim = args.latent_dim\n",
    "epochs = args.epochs\n",
    "batch_size = args.batch_size"
   ]
  },
  {
   "cell_type": "markdown",
   "id": "e718e3c3",
   "metadata": {},
   "source": [
    "# Example"
   ]
  },
  {
   "cell_type": "code",
   "execution_count": 10,
   "id": "78f2c2d4",
   "metadata": {},
   "outputs": [],
   "source": [
    "DATA_PATH = \"/Users/tgn531/Desktop/CBPP_22012021/Matrices_examples/GSE75748_sc_cell_type_ec.tsv\"\n",
    "latent_dim = 100\n",
    "intermediate_dim = 500\n",
    "epochs = 2\n",
    "batch_size = 32"
   ]
  },
  {
   "cell_type": "markdown",
   "id": "290c8523",
   "metadata": {},
   "source": [
    "# Loads the data and preprocesses it"
   ]
  },
  {
   "cell_type": "code",
   "execution_count": 3,
   "id": "cb5262ec",
   "metadata": {},
   "outputs": [],
   "source": [
    "def load_data(DATA_PATH):\n",
    "    \"\"\"Loads the data and preprocesses it.\"\"\"\n",
    "    row_names = []\n",
    "    array = []\n",
    "    with open(DATA_PATH, 'r', encoding='utf-8') as infile:\n",
    "        next(infile)\n",
    "        for line in infile:\n",
    "            line = line.split(\"\\t\")\n",
    "            row_names.append(line[0])\n",
    "            array.append(line[1:])\n",
    "\n",
    "    expr = np.asarray(array, dtype=np.float32)\n",
    "    expr = np.log2(1+expr[:])\n",
    "    expr = expr / np.max(expr, axis=1, keepdims=True)\n",
    "    expr = np.nan_to_num(expr)\n",
    "    return expr, row_names"
   ]
  },
  {
   "cell_type": "markdown",
   "id": "1e95a06c",
   "metadata": {},
   "source": [
    "# Network Dimensions"
   ]
  },
  {
   "cell_type": "code",
   "execution_count": 4,
   "id": "da510d4e",
   "metadata": {},
   "outputs": [],
   "source": [
    "x, row_names = load_data(DATA_PATH)\n",
    "original_dim = x.shape[1]"
   ]
  },
  {
   "cell_type": "markdown",
   "id": "dcd844c8",
   "metadata": {},
   "source": [
    "# Sampling"
   ]
  },
  {
   "cell_type": "code",
   "execution_count": 5,
   "id": "be315273",
   "metadata": {},
   "outputs": [],
   "source": [
    "def sampling(args):\n",
    "    z_mean, z_log_sigma = args\n",
    "    epsilon = K.random_normal(shape=(K.shape(z_mean)[0], latent_dim),\n",
    "                              mean=0., stddev=0.1)\n",
    "    return z_mean + K.exp(z_log_sigma) * epsilon"
   ]
  },
  {
   "cell_type": "code",
   "execution_count": 6,
   "id": "161ef9ac",
   "metadata": {},
   "outputs": [],
   "source": [
    "inputs = keras.Input(shape=(original_dim,))\n",
    "outputs = layers.Dense(original_dim, activation='sigmoid')(x)\n",
    "opt = tf.keras.optimizers.Adam(learning_rate=0.001, clipnorm=0.001)\n"
   ]
  },
  {
   "cell_type": "code",
   "execution_count": 8,
   "id": "94a22403",
   "metadata": {},
   "outputs": [],
   "source": [
    "class VAE(keras.Model):\n",
    "    def __init__(self, original_dim=original_dim, epochs = 100, intermediate_dim = 500, latent_dim = 100):\n",
    "        super(VAE, self).__init__()\n",
    "        inputs = keras.Input(shape=(original_dim,))\n",
    "        h = layers.Dense(intermediate_dim, activation='relu')(inputs)\n",
    "        \n",
    "        z_mean = layers.Dense(latent_dim)(h)\n",
    "        z_log_sigma = layers.Dense(latent_dim)(h)\n",
    "        z = layers.Lambda(sampling)([z_mean, z_log_sigma])\n",
    "\n",
    "        # Create encoder\n",
    "        encoder = keras.Model(inputs, [z_mean, z_log_sigma, z], name='encoder')\n",
    "        self.encoder = encoder\n",
    "        # Create decoder\n",
    "        latent_inputs = keras.Input(shape=(latent_dim,), name='z_sampling')\n",
    "        x = layers.Dense(intermediate_dim, activation='relu')(latent_inputs) #relu\n",
    "        \n",
    "        \n",
    "        outputs = layers.Dense(original_dim, activation='sigmoid')(x)\n",
    "        decoder = keras.Model(latent_inputs, outputs, name='decoder')\n",
    "        self.decoder = decoder\n",
    "        \n",
    "        # instantiate VAE model\n",
    "        outputs = decoder(encoder(inputs)[2])\n",
    "        vae = keras.Model(inputs, outputs, name='vae_mlp')\n",
    "        \n",
    "        # loss\n",
    "        reconstruction_loss = keras.losses.mean_squared_error(inputs, outputs)\n",
    "        reconstruction_loss *= original_dim        \n",
    "        kl_loss = 1 + z_log_sigma - K.square(z_mean) - K.exp(z_log_sigma)\n",
    "        kl_loss = K.sum(kl_loss, axis=-1)\n",
    "        kl_loss *= -0.5   \n",
    "        vae_loss = K.mean(0.9*(reconstruction_loss) + 0.1*(kl_loss))\n",
    "        vae.add_loss(vae_loss)\n",
    "        \n",
    "        opt = tf.keras.optimizers.Adam(learning_rate=0.001 ,clipnorm=0.001)\n",
    "\n",
    "        vae.compile(optimizer= opt, loss='mean_squared_error', metrics=['accuracy'])\n",
    "        vae.fit(x_train, x_train, batch_size=batch_size, epochs=epochs, validation_data=(x_test, x_test))"
   ]
  },
  {
   "cell_type": "markdown",
   "id": "80295771",
   "metadata": {},
   "source": [
    "# Train the VAE"
   ]
  },
  {
   "cell_type": "code",
   "execution_count": 11,
   "id": "da30f192",
   "metadata": {},
   "outputs": [
    {
     "name": "stdout",
     "output_type": "stream",
     "text": [
      "Epoch 1/2\n",
      "597/597 [==============================] - 7s 11ms/step - loss: 36.3529 - accuracy: 0.0043 - val_loss: 29.6568 - val_accuracy: 0.0076\n",
      "Epoch 2/2\n",
      "597/597 [==============================] - 7s 11ms/step - loss: 28.6775 - accuracy: 0.0095 - val_loss: 28.1405 - val_accuracy: 0.0095\n"
     ]
    }
   ],
   "source": [
    "x_train = x_test = np.array(x) \n",
    "vae = VAE(intermediate_dim = intermediate_dim, latent_dim = latent_dim, epochs=epochs)"
   ]
  },
  {
   "cell_type": "code",
   "execution_count": null,
   "id": "da095305",
   "metadata": {},
   "outputs": [],
   "source": []
  },
  {
   "cell_type": "code",
   "execution_count": null,
   "id": "5a803719",
   "metadata": {},
   "outputs": [],
   "source": []
  }
 ],
 "metadata": {
  "kernelspec": {
   "display_name": "Python 3",
   "language": "python",
   "name": "python3"
  },
  "language_info": {
   "codemirror_mode": {
    "name": "ipython",
    "version": 3
   },
   "file_extension": ".py",
   "mimetype": "text/x-python",
   "name": "python",
   "nbconvert_exporter": "python",
   "pygments_lexer": "ipython3",
   "version": "3.9.1"
  }
 },
 "nbformat": 4,
 "nbformat_minor": 5
}
