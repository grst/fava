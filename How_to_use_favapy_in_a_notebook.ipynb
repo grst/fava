{
 "cells": [
  {
   "cell_type": "markdown",
   "id": "bf115990",
   "metadata": {},
   "source": [
    "# First case: Using counts matrix as input for creating co-expression network\n",
    "### The input in this case should be a tab-separated matrix with observations as columns and variables as rows. In other words, in the rows should be the entities that will be the nodes of our network. "
   ]
  },
  {
   "cell_type": "code",
   "execution_count": 1,
   "id": "a308a459",
   "metadata": {},
   "outputs": [],
   "source": [
    "import pandas as pd"
   ]
  },
  {
   "cell_type": "markdown",
   "id": "ad033202",
   "metadata": {},
   "source": [
    "### Let's import FAVA\n",
    "#### Make sure you have loaded the latest version. If you are not sure visit here: https://pypi.org/project/favapy/"
   ]
  },
  {
   "cell_type": "code",
   "execution_count": 2,
   "id": "75669f25",
   "metadata": {},
   "outputs": [],
   "source": [
    "# !pip install favapy\n",
    "from favapy import fava"
   ]
  },
  {
   "cell_type": "markdown",
   "id": "a938f4ea",
   "metadata": {},
   "source": [
    "### Our data is a single-cell RNAseq dataset. "
   ]
  },
  {
   "cell_type": "code",
   "execution_count": 3,
   "id": "6b942519",
   "metadata": {},
   "outputs": [],
   "source": [
    "data = pd.read_csv(\"data/Example_dataset_GSE75748_sc_cell_type_ec.tsv\", \n",
    "                   sep='\\t') "
   ]
  },
  {
   "cell_type": "markdown",
   "id": "c5aac174",
   "metadata": {},
   "source": [
    "### Our matrix looks like this:"
   ]
  },
  {
   "cell_type": "code",
   "execution_count": 4,
   "id": "750d5143",
   "metadata": {},
   "outputs": [
    {
     "data": {
      "text/html": [
       "<div>\n",
       "<style scoped>\n",
       "    .dataframe tbody tr th:only-of-type {\n",
       "        vertical-align: middle;\n",
       "    }\n",
       "\n",
       "    .dataframe tbody tr th {\n",
       "        vertical-align: top;\n",
       "    }\n",
       "\n",
       "    .dataframe thead th {\n",
       "        text-align: right;\n",
       "    }\n",
       "</style>\n",
       "<table border=\"1\" class=\"dataframe\">\n",
       "  <thead>\n",
       "    <tr style=\"text-align: right;\">\n",
       "      <th></th>\n",
       "      <th>H1_Exp1.001</th>\n",
       "      <th>H1_Exp1.002</th>\n",
       "      <th>H1_Exp1.003</th>\n",
       "      <th>H1_Exp1.004</th>\n",
       "      <th>H1_Exp1.006</th>\n",
       "      <th>H1_Exp1.007</th>\n",
       "      <th>H1_Exp1.008</th>\n",
       "      <th>H1_Exp1.009</th>\n",
       "      <th>H1_Exp1.010</th>\n",
       "      <th>H1_Exp1.011</th>\n",
       "      <th>...</th>\n",
       "      <th>TB_Batch2.135</th>\n",
       "      <th>TB_Batch2.136</th>\n",
       "      <th>TB_Batch2.137</th>\n",
       "      <th>TB_Batch2.138</th>\n",
       "      <th>TB_Batch2.139</th>\n",
       "      <th>TB_Batch2.140</th>\n",
       "      <th>TB_Batch2.141</th>\n",
       "      <th>TB_Batch2.142</th>\n",
       "      <th>TB_Batch2.143</th>\n",
       "      <th>TB_Batch2.144</th>\n",
       "    </tr>\n",
       "  </thead>\n",
       "  <tbody>\n",
       "    <tr>\n",
       "      <th>MKL2</th>\n",
       "      <td>10.00</td>\n",
       "      <td>162.00</td>\n",
       "      <td>3.00</td>\n",
       "      <td>42.00</td>\n",
       "      <td>0.00</td>\n",
       "      <td>2.00</td>\n",
       "      <td>18.00</td>\n",
       "      <td>0.00</td>\n",
       "      <td>182.00</td>\n",
       "      <td>2.00</td>\n",
       "      <td>...</td>\n",
       "      <td>364.98</td>\n",
       "      <td>1.00</td>\n",
       "      <td>21.00</td>\n",
       "      <td>1127.80</td>\n",
       "      <td>2119.00</td>\n",
       "      <td>5.00</td>\n",
       "      <td>500.96</td>\n",
       "      <td>18.00</td>\n",
       "      <td>472.08</td>\n",
       "      <td>350.00</td>\n",
       "    </tr>\n",
       "    <tr>\n",
       "      <th>CD109</th>\n",
       "      <td>6.38</td>\n",
       "      <td>2.62</td>\n",
       "      <td>166.80</td>\n",
       "      <td>9.68</td>\n",
       "      <td>7.32</td>\n",
       "      <td>53.89</td>\n",
       "      <td>4.63</td>\n",
       "      <td>64.54</td>\n",
       "      <td>29.93</td>\n",
       "      <td>12.10</td>\n",
       "      <td>...</td>\n",
       "      <td>15.22</td>\n",
       "      <td>38.66</td>\n",
       "      <td>38.56</td>\n",
       "      <td>11.53</td>\n",
       "      <td>48.21</td>\n",
       "      <td>23.88</td>\n",
       "      <td>362.56</td>\n",
       "      <td>22.72</td>\n",
       "      <td>36.62</td>\n",
       "      <td>25.78</td>\n",
       "    </tr>\n",
       "    <tr>\n",
       "      <th>ABTB1</th>\n",
       "      <td>0.00</td>\n",
       "      <td>28.00</td>\n",
       "      <td>0.00</td>\n",
       "      <td>1.00</td>\n",
       "      <td>0.00</td>\n",
       "      <td>9.00</td>\n",
       "      <td>0.00</td>\n",
       "      <td>0.00</td>\n",
       "      <td>0.00</td>\n",
       "      <td>0.00</td>\n",
       "      <td>...</td>\n",
       "      <td>0.00</td>\n",
       "      <td>0.00</td>\n",
       "      <td>0.00</td>\n",
       "      <td>0.00</td>\n",
       "      <td>0.00</td>\n",
       "      <td>0.00</td>\n",
       "      <td>0.00</td>\n",
       "      <td>3.00</td>\n",
       "      <td>39.00</td>\n",
       "      <td>0.00</td>\n",
       "    </tr>\n",
       "    <tr>\n",
       "      <th>MAST2</th>\n",
       "      <td>0.00</td>\n",
       "      <td>133.00</td>\n",
       "      <td>41.00</td>\n",
       "      <td>0.00</td>\n",
       "      <td>0.00</td>\n",
       "      <td>2.00</td>\n",
       "      <td>0.00</td>\n",
       "      <td>0.00</td>\n",
       "      <td>0.00</td>\n",
       "      <td>8.00</td>\n",
       "      <td>...</td>\n",
       "      <td>175.00</td>\n",
       "      <td>41.00</td>\n",
       "      <td>32.00</td>\n",
       "      <td>3.00</td>\n",
       "      <td>6.00</td>\n",
       "      <td>206.00</td>\n",
       "      <td>43.04</td>\n",
       "      <td>2.00</td>\n",
       "      <td>1.00</td>\n",
       "      <td>99.00</td>\n",
       "    </tr>\n",
       "    <tr>\n",
       "      <th>KAT5</th>\n",
       "      <td>0.00</td>\n",
       "      <td>7.06</td>\n",
       "      <td>52.95</td>\n",
       "      <td>20.16</td>\n",
       "      <td>0.00</td>\n",
       "      <td>6.29</td>\n",
       "      <td>0.00</td>\n",
       "      <td>0.00</td>\n",
       "      <td>103.00</td>\n",
       "      <td>122.46</td>\n",
       "      <td>...</td>\n",
       "      <td>0.00</td>\n",
       "      <td>577.91</td>\n",
       "      <td>0.00</td>\n",
       "      <td>3.00</td>\n",
       "      <td>2.00</td>\n",
       "      <td>0.00</td>\n",
       "      <td>56.77</td>\n",
       "      <td>2.04</td>\n",
       "      <td>0.00</td>\n",
       "      <td>0.00</td>\n",
       "    </tr>\n",
       "    <tr>\n",
       "      <th>...</th>\n",
       "      <td>...</td>\n",
       "      <td>...</td>\n",
       "      <td>...</td>\n",
       "      <td>...</td>\n",
       "      <td>...</td>\n",
       "      <td>...</td>\n",
       "      <td>...</td>\n",
       "      <td>...</td>\n",
       "      <td>...</td>\n",
       "      <td>...</td>\n",
       "      <td>...</td>\n",
       "      <td>...</td>\n",
       "      <td>...</td>\n",
       "      <td>...</td>\n",
       "      <td>...</td>\n",
       "      <td>...</td>\n",
       "      <td>...</td>\n",
       "      <td>...</td>\n",
       "      <td>...</td>\n",
       "      <td>...</td>\n",
       "      <td>...</td>\n",
       "    </tr>\n",
       "    <tr>\n",
       "      <th>WDR33</th>\n",
       "      <td>101.00</td>\n",
       "      <td>201.44</td>\n",
       "      <td>23.31</td>\n",
       "      <td>164.65</td>\n",
       "      <td>181.49</td>\n",
       "      <td>135.93</td>\n",
       "      <td>233.00</td>\n",
       "      <td>105.00</td>\n",
       "      <td>215.98</td>\n",
       "      <td>371.10</td>\n",
       "      <td>...</td>\n",
       "      <td>512.80</td>\n",
       "      <td>9.86</td>\n",
       "      <td>776.49</td>\n",
       "      <td>1683.81</td>\n",
       "      <td>366.29</td>\n",
       "      <td>5.24</td>\n",
       "      <td>79.92</td>\n",
       "      <td>6.71</td>\n",
       "      <td>124.06</td>\n",
       "      <td>60.45</td>\n",
       "    </tr>\n",
       "    <tr>\n",
       "      <th>EPSTI1</th>\n",
       "      <td>0.00</td>\n",
       "      <td>0.00</td>\n",
       "      <td>0.00</td>\n",
       "      <td>0.00</td>\n",
       "      <td>0.00</td>\n",
       "      <td>0.00</td>\n",
       "      <td>0.00</td>\n",
       "      <td>0.00</td>\n",
       "      <td>0.00</td>\n",
       "      <td>0.00</td>\n",
       "      <td>...</td>\n",
       "      <td>455.00</td>\n",
       "      <td>330.24</td>\n",
       "      <td>290.00</td>\n",
       "      <td>523.00</td>\n",
       "      <td>242.00</td>\n",
       "      <td>146.00</td>\n",
       "      <td>539.00</td>\n",
       "      <td>0.00</td>\n",
       "      <td>21.32</td>\n",
       "      <td>472.01</td>\n",
       "    </tr>\n",
       "    <tr>\n",
       "      <th>CLPTM1L</th>\n",
       "      <td>22.00</td>\n",
       "      <td>84.46</td>\n",
       "      <td>19.00</td>\n",
       "      <td>52.00</td>\n",
       "      <td>2.00</td>\n",
       "      <td>24.00</td>\n",
       "      <td>109.00</td>\n",
       "      <td>13.00</td>\n",
       "      <td>11.00</td>\n",
       "      <td>4.00</td>\n",
       "      <td>...</td>\n",
       "      <td>268.00</td>\n",
       "      <td>37.00</td>\n",
       "      <td>12.00</td>\n",
       "      <td>0.00</td>\n",
       "      <td>0.00</td>\n",
       "      <td>0.00</td>\n",
       "      <td>296.00</td>\n",
       "      <td>0.00</td>\n",
       "      <td>271.00</td>\n",
       "      <td>0.00</td>\n",
       "    </tr>\n",
       "    <tr>\n",
       "      <th>CCDC125</th>\n",
       "      <td>32.57</td>\n",
       "      <td>52.04</td>\n",
       "      <td>110.97</td>\n",
       "      <td>73.82</td>\n",
       "      <td>53.15</td>\n",
       "      <td>79.23</td>\n",
       "      <td>27.85</td>\n",
       "      <td>54.49</td>\n",
       "      <td>106.26</td>\n",
       "      <td>69.77</td>\n",
       "      <td>...</td>\n",
       "      <td>276.59</td>\n",
       "      <td>244.83</td>\n",
       "      <td>246.80</td>\n",
       "      <td>167.79</td>\n",
       "      <td>336.73</td>\n",
       "      <td>221.86</td>\n",
       "      <td>166.23</td>\n",
       "      <td>131.41</td>\n",
       "      <td>730.10</td>\n",
       "      <td>297.28</td>\n",
       "    </tr>\n",
       "    <tr>\n",
       "      <th>CATSPER3</th>\n",
       "      <td>0.00</td>\n",
       "      <td>0.00</td>\n",
       "      <td>0.00</td>\n",
       "      <td>1.00</td>\n",
       "      <td>0.00</td>\n",
       "      <td>0.00</td>\n",
       "      <td>0.00</td>\n",
       "      <td>0.00</td>\n",
       "      <td>0.00</td>\n",
       "      <td>4.00</td>\n",
       "      <td>...</td>\n",
       "      <td>0.00</td>\n",
       "      <td>0.00</td>\n",
       "      <td>0.00</td>\n",
       "      <td>0.00</td>\n",
       "      <td>0.00</td>\n",
       "      <td>0.00</td>\n",
       "      <td>0.00</td>\n",
       "      <td>0.00</td>\n",
       "      <td>0.00</td>\n",
       "      <td>0.00</td>\n",
       "    </tr>\n",
       "  </tbody>\n",
       "</table>\n",
       "<p>19097 rows × 1018 columns</p>\n",
       "</div>"
      ],
      "text/plain": [
       "          H1_Exp1.001  H1_Exp1.002  H1_Exp1.003  H1_Exp1.004  H1_Exp1.006  \\\n",
       "MKL2            10.00       162.00         3.00        42.00         0.00   \n",
       "CD109            6.38         2.62       166.80         9.68         7.32   \n",
       "ABTB1            0.00        28.00         0.00         1.00         0.00   \n",
       "MAST2            0.00       133.00        41.00         0.00         0.00   \n",
       "KAT5             0.00         7.06        52.95        20.16         0.00   \n",
       "...               ...          ...          ...          ...          ...   \n",
       "WDR33          101.00       201.44        23.31       164.65       181.49   \n",
       "EPSTI1           0.00         0.00         0.00         0.00         0.00   \n",
       "CLPTM1L         22.00        84.46        19.00        52.00         2.00   \n",
       "CCDC125         32.57        52.04       110.97        73.82        53.15   \n",
       "CATSPER3         0.00         0.00         0.00         1.00         0.00   \n",
       "\n",
       "          H1_Exp1.007  H1_Exp1.008  H1_Exp1.009  H1_Exp1.010  H1_Exp1.011  \\\n",
       "MKL2             2.00        18.00         0.00       182.00         2.00   \n",
       "CD109           53.89         4.63        64.54        29.93        12.10   \n",
       "ABTB1            9.00         0.00         0.00         0.00         0.00   \n",
       "MAST2            2.00         0.00         0.00         0.00         8.00   \n",
       "KAT5             6.29         0.00         0.00       103.00       122.46   \n",
       "...               ...          ...          ...          ...          ...   \n",
       "WDR33          135.93       233.00       105.00       215.98       371.10   \n",
       "EPSTI1           0.00         0.00         0.00         0.00         0.00   \n",
       "CLPTM1L         24.00       109.00        13.00        11.00         4.00   \n",
       "CCDC125         79.23        27.85        54.49       106.26        69.77   \n",
       "CATSPER3         0.00         0.00         0.00         0.00         4.00   \n",
       "\n",
       "          ...  TB_Batch2.135  TB_Batch2.136  TB_Batch2.137  TB_Batch2.138  \\\n",
       "MKL2      ...         364.98           1.00          21.00        1127.80   \n",
       "CD109     ...          15.22          38.66          38.56          11.53   \n",
       "ABTB1     ...           0.00           0.00           0.00           0.00   \n",
       "MAST2     ...         175.00          41.00          32.00           3.00   \n",
       "KAT5      ...           0.00         577.91           0.00           3.00   \n",
       "...       ...            ...            ...            ...            ...   \n",
       "WDR33     ...         512.80           9.86         776.49        1683.81   \n",
       "EPSTI1    ...         455.00         330.24         290.00         523.00   \n",
       "CLPTM1L   ...         268.00          37.00          12.00           0.00   \n",
       "CCDC125   ...         276.59         244.83         246.80         167.79   \n",
       "CATSPER3  ...           0.00           0.00           0.00           0.00   \n",
       "\n",
       "          TB_Batch2.139  TB_Batch2.140  TB_Batch2.141  TB_Batch2.142  \\\n",
       "MKL2            2119.00           5.00         500.96          18.00   \n",
       "CD109             48.21          23.88         362.56          22.72   \n",
       "ABTB1              0.00           0.00           0.00           3.00   \n",
       "MAST2              6.00         206.00          43.04           2.00   \n",
       "KAT5               2.00           0.00          56.77           2.04   \n",
       "...                 ...            ...            ...            ...   \n",
       "WDR33            366.29           5.24          79.92           6.71   \n",
       "EPSTI1           242.00         146.00         539.00           0.00   \n",
       "CLPTM1L            0.00           0.00         296.00           0.00   \n",
       "CCDC125          336.73         221.86         166.23         131.41   \n",
       "CATSPER3           0.00           0.00           0.00           0.00   \n",
       "\n",
       "          TB_Batch2.143  TB_Batch2.144  \n",
       "MKL2             472.08         350.00  \n",
       "CD109             36.62          25.78  \n",
       "ABTB1             39.00           0.00  \n",
       "MAST2              1.00          99.00  \n",
       "KAT5               0.00           0.00  \n",
       "...                 ...            ...  \n",
       "WDR33            124.06          60.45  \n",
       "EPSTI1            21.32         472.01  \n",
       "CLPTM1L          271.00           0.00  \n",
       "CCDC125          730.10         297.28  \n",
       "CATSPER3           0.00           0.00  \n",
       "\n",
       "[19097 rows x 1018 columns]"
      ]
     },
     "execution_count": 4,
     "metadata": {},
     "output_type": "execute_result"
    }
   ],
   "source": [
    "data"
   ]
  },
  {
   "cell_type": "markdown",
   "id": "20d4015c",
   "metadata": {},
   "source": [
    "### Run FAVA"
   ]
  },
  {
   "cell_type": "code",
   "execution_count": null,
   "id": "02d9777a",
   "metadata": {},
   "outputs": [],
   "source": [
    "my_FAVAourite_network = fava.cook(data = data,\n",
    "                                  log2_normalization = True, # If your data are normalized set this to False\n",
    "                                  hidden_layer = None, # If None, it will be adjusted base on the input size.\n",
    "                                  latent_dim = None, # If None, it will be adjusted base on the size of the hidden layer.\n",
    "                                  epochs = 50, \n",
    "                                  batch_size = 32,\n",
    "                                  PCC_cutoff = 0.95) # This is arbitraty. We need to plot the score distribution.\n",
    "my_FAVAourite_network\n",
    "    "
   ]
  },
  {
   "cell_type": "markdown",
   "id": "c01220d9",
   "metadata": {},
   "source": [
    "# Second case: Using anndata as input for creating co-expression network"
   ]
  },
  {
   "cell_type": "markdown",
   "id": "51c77669",
   "metadata": {},
   "source": [
    "### If input is an AnnData object, it contains an expression matrix X, which stores n_obs observations (cells) of n_vars variables (genes)."
   ]
  },
  {
   "cell_type": "markdown",
   "id": "783d8d57",
   "metadata": {},
   "source": [
    "#### Here we follow the steps as described in the scanpy tutorial here: https://scanpy-tutorials.readthedocs.io/en/latest/pbmc3k.html"
   ]
  },
  {
   "cell_type": "code",
   "execution_count": null,
   "id": "a6b404df",
   "metadata": {
    "scrolled": true
   },
   "outputs": [],
   "source": [
    "# !mkdir data\n",
    "# !wget http://cf.10xgenomics.com/samples/cell-exp/1.1.0/pbmc3k/pbmc3k_filtered_gene_bc_matrices.tar.gz -O data/pbmc3k_filtered_gene_bc_matrices.tar.gz\n",
    "# !cd data; tar -xzf pbmc3k_filtered_gene_bc_matrices.tar.gz\n"
   ]
  },
  {
   "cell_type": "code",
   "execution_count": 5,
   "id": "83c35e66",
   "metadata": {},
   "outputs": [],
   "source": [
    "import scanpy as sc\n",
    "\n",
    "adata = sc.read_10x_mtx(\n",
    "    'data/filtered_gene_bc_matrices/hg19/',  # the directory with the `.mtx` file\n",
    "    var_names='gene_symbols',                # use gene symbols for the variable names (variables-axis index)\n",
    "    cache=True)                              # write a cache file for faster subsequent reading"
   ]
  },
  {
   "cell_type": "code",
   "execution_count": 6,
   "id": "e61137d6",
   "metadata": {},
   "outputs": [
    {
     "data": {
      "image/png": "[encoded data removed]",
      "text/plain": [
       "<Figure size 432x288 with 2 Axes>"
      ]
     },
     "metadata": {
      "needs_background": "light"
     },
     "output_type": "display_data"
    }
   ],
   "source": [
    "adata.var_names_make_unique()  # this is unnecessary if using `var_names='gene_ids'` in `sc.read_10x_mtx`\n",
    "\n",
    "# Basic filtering\n",
    "sc.pp.filter_cells(adata, min_genes=200)\n",
    "sc.pp.filter_genes(adata, min_cells=3)\n",
    "\n",
    "adata.var['mt'] = adata.var_names.str.startswith('MT-')  # annotate the group of mitochondrial genes as 'mt'\n",
    "sc.pp.calculate_qc_metrics(adata, qc_vars=['mt'], percent_top=None, log1p=False, inplace=True)\n",
    "\n",
    "# Filtering\n",
    "adata = adata[adata.obs.n_genes_by_counts < 2500, :]\n",
    "adata = adata[adata.obs.pct_counts_mt < 5, :]\n",
    "sc.pp.normalize_total(adata, target_sum=1e4)\n",
    "sc.pp.log1p(adata)\n",
    "\n",
    "sc.pp.regress_out(adata, ['total_counts', 'pct_counts_mt'])\n",
    "\n",
    "\n",
    "sc.tl.pca(adata, svd_solver='arpack')\n",
    "sc.pl.pca(adata, color='CST3')\n"
   ]
  },
  {
   "cell_type": "code",
   "execution_count": 7,
   "id": "ea11fad7",
   "metadata": {},
   "outputs": [
    {
     "name": "stdout",
     "output_type": "stream",
     "text": [
      "AnnData object with n_obs × n_vars = 2638 × 13714\n",
      "    obs: 'n_genes', 'n_genes_by_counts', 'total_counts', 'total_counts_mt', 'pct_counts_mt'\n",
      "    var: 'gene_ids', 'n_cells', 'mt', 'n_cells_by_counts', 'mean_counts', 'pct_dropout_by_counts', 'total_counts'\n",
      "    uns: 'log1p', 'pca'\n",
      "    obsm: 'X_pca'\n",
      "    varm: 'PCs'\n",
      "[[-6.12200936e-03 -1.48024922e-03 -2.13638437e-03 ... -4.51365160e-03\n",
      "  -6.40674978e-02 -3.70223857e-02]\n",
      " [-9.40247439e-03 -1.55478332e-03 -1.05254687e-02 ... -1.18392045e-02\n",
      "  -1.09831728e-01 -6.34919181e-02]\n",
      " [-5.42712444e-03 -2.48085614e-03 -5.94359590e-03 ... -7.02461973e-03\n",
      "  -8.56298953e-02 -5.57584986e-02]\n",
      " ...\n",
      " [-4.73570684e-03 -1.70380529e-03  7.48216098e-06 ... -2.43741483e-03\n",
      "  -5.25713079e-02 -3.19451652e-02]\n",
      " [-3.90673382e-03 -1.65717863e-03  2.28009513e-03 ...  2.37765670e+00\n",
      "  -4.01520319e-02 -2.45906953e-02]\n",
      " [-4.08808235e-03 -2.32962915e-03 -1.85557234e-03 ... -3.55155533e-03\n",
      "  -6.32345751e-02 -4.20607105e-02]]\n"
     ]
    }
   ],
   "source": [
    "print(adata)\n",
    "print(adata.X)"
   ]
  },
  {
   "cell_type": "markdown",
   "id": "f664e633",
   "metadata": {},
   "source": [
    "##### If the data is in Compressed Sparse Row format so we have to \"uncompress\" --> adata.X = adata.X.A"
   ]
  },
  {
   "cell_type": "markdown",
   "id": "f5f88208",
   "metadata": {},
   "source": [
    "### Run FAVA"
   ]
  },
  {
   "cell_type": "code",
   "execution_count": null,
   "id": "a193bf3c",
   "metadata": {},
   "outputs": [],
   "source": [
    "my_FAVAourite_network = fava.cook(data = adata,\n",
    "                                  log2_normalization = True, # If your data are normalized set this to False\n",
    "                                  hidden_layer = None, # If None, it will be adjusted base on the input size.\n",
    "                                  latent_dim = None, # If None, it will be adjusted base on the size of the hidden layer.\n",
    "                                  epochs = 10, \n",
    "                                  batch_size = 100,\n",
    "                                  PCC_cutoff = 0.95) # This is arbitraty. We need to plot the score distribution.\n",
    "my_FAVAourite_network"
   ]
  },
  {
   "cell_type": "markdown",
   "id": "58e1044e",
   "metadata": {},
   "source": [
    "### Now we have our network! Here we remove the AB-BA interactions (keeping only AB)"
   ]
  },
  {
   "cell_type": "code",
   "execution_count": null,
   "id": "3017106b",
   "metadata": {},
   "outputs": [],
   "source": [
    "my_FAVAourite_network_single = my_FAVAourite_network.iloc[::2, :]\n",
    "my_FAVAourite_network_single\n"
   ]
  },
  {
   "cell_type": "markdown",
   "id": "6c6f5f86",
   "metadata": {},
   "source": [
    "### Visualization of the network"
   ]
  },
  {
   "cell_type": "code",
   "execution_count": null,
   "id": "3ed0b6d3",
   "metadata": {},
   "outputs": [],
   "source": [
    "import networkx as nx"
   ]
  },
  {
   "cell_type": "code",
   "execution_count": null,
   "id": "4d0eb778",
   "metadata": {},
   "outputs": [],
   "source": [
    "G = nx.from_pandas_edgelist(my_FAVAourite_network_single,\n",
    "                           source = 'Protein_1',\n",
    "                           target = 'Protein_2',\n",
    "                           edge_attr = 'Score')"
   ]
  },
  {
   "cell_type": "code",
   "execution_count": null,
   "id": "43955a98",
   "metadata": {},
   "outputs": [],
   "source": [
    "nx.draw_kamada_kawai(G, node_size = 50, node_color=\"purple\")"
   ]
  },
  {
   "cell_type": "code",
   "execution_count": null,
   "id": "17fd7830",
   "metadata": {},
   "outputs": [],
   "source": [
    "from pyvis.network import Network"
   ]
  },
  {
   "cell_type": "code",
   "execution_count": null,
   "id": "bd203910",
   "metadata": {},
   "outputs": [],
   "source": [
    "net = Network(height='800px', width='100%', bgcolor='#ffffff', \n",
    "                font_color='black',notebook = True, directed=False)\n",
    "net.from_nx(G)\n",
    "net.show_buttons(filter_='physics')\n",
    "#generate html file\n",
    "net.show(\"fava.html\")"
   ]
  }
 ],
 "metadata": {
  "kernelspec": {
   "display_name": "Python 3",
   "language": "python",
   "name": "python3"
  },
  "language_info": {
   "codemirror_mode": {
    "name": "ipython",
    "version": 3
   },
   "file_extension": ".py",
   "mimetype": "text/x-python",
   "name": "python",
   "nbconvert_exporter": "python",
   "pygments_lexer": "ipython3",
   "version": "3.9.13"
  }
 },
 "nbformat": 4,
 "nbformat_minor": 5
}
